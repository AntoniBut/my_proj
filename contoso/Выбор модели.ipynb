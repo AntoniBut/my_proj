{
 "cells": [
  {
   "cell_type": "markdown",
   "metadata": {},
   "source": [
    "Библиотеки"
   ]
  },
  {
   "cell_type": "code",
   "execution_count": 86,
   "metadata": {},
   "outputs": [],
   "source": [
    "import pandas as pd\n",
    "import numpy as np\n",
    "from sklearn.model_selection import train_test_split\n",
    "from sklearn.preprocessing import Normalizer\n",
    "from sklearn.tree import DecisionTreeRegressor\n",
    "from sklearn.metrics import mean_absolute_error, median_absolute_error, r2_score\n",
    "from keras.models import Sequential\n",
    "from keras.layers import Dense\n",
    "import matplotlib.pyplot as plt"
   ]
  },
  {
   "cell_type": "markdown",
   "metadata": {},
   "source": [
    "Згаружаем данные"
   ]
  },
  {
   "cell_type": "code",
   "execution_count": 87,
   "metadata": {},
   "outputs": [],
   "source": [
    "df=pd.read_csv('./ebw_data.csv')"
   ]
  },
  {
   "cell_type": "markdown",
   "metadata": {},
   "source": [
    "Посмотрим информацию о данных"
   ]
  },
  {
   "cell_type": "code",
   "execution_count": 88,
   "metadata": {},
   "outputs": [
    {
     "name": "stdout",
     "output_type": "stream",
     "text": [
      "Первые 5 значений \n",
      "    IW   IF   VW  FP  Depth  Width\n",
      "0  47  139  4.5  80   1.60   2.54\n",
      "1  47  139  4.5  80   1.62   2.50\n",
      "2  47  139  4.5  80   1.68   2.60\n",
      "3  47  139  4.5  80   1.58   2.52\n",
      "4  45  140  4.5  80   1.76   2.48 \n",
      "\n",
      "Размер датасета \n",
      " (72, 6) \n",
      "\n",
      "Общая информация о наборе данных \n",
      "\n",
      "<class 'pandas.core.frame.DataFrame'>\n",
      "RangeIndex: 72 entries, 0 to 71\n",
      "Data columns (total 6 columns):\n",
      " #   Column  Non-Null Count  Dtype  \n",
      "---  ------  --------------  -----  \n",
      " 0   IW      72 non-null     int64  \n",
      " 1   IF      72 non-null     int64  \n",
      " 2   VW      72 non-null     float64\n",
      " 3   FP      72 non-null     int64  \n",
      " 4   Depth   72 non-null     float64\n",
      " 5   Width   72 non-null     float64\n",
      "dtypes: float64(3), int64(3)\n",
      "memory usage: 3.5 KB\n",
      "None\n"
     ]
    }
   ],
   "source": [
    "print('Первые 5 значений \\n', df.head(5),'\\n')\n",
    "print('Размер датасета \\n', df.shape,'\\n')\n",
    "print('Общая информация о наборе данных \\n')\n",
    "print(df.info())"
   ]
  },
  {
   "cell_type": "markdown",
   "metadata": {},
   "source": [
    "Пропусков данных нет"
   ]
  },
  {
   "cell_type": "markdown",
   "metadata": {},
   "source": [
    "Основные стат. характеристики набора данных"
   ]
  },
  {
   "cell_type": "code",
   "execution_count": 89,
   "metadata": {},
   "outputs": [
    {
     "data": {
      "text/html": [
       "<div>\n",
       "<style scoped>\n",
       "    .dataframe tbody tr th:only-of-type {\n",
       "        vertical-align: middle;\n",
       "    }\n",
       "\n",
       "    .dataframe tbody tr th {\n",
       "        vertical-align: top;\n",
       "    }\n",
       "\n",
       "    .dataframe thead th {\n",
       "        text-align: right;\n",
       "    }\n",
       "</style>\n",
       "<table border=\"1\" class=\"dataframe\">\n",
       "  <thead>\n",
       "    <tr style=\"text-align: right;\">\n",
       "      <th></th>\n",
       "      <th>IW</th>\n",
       "      <th>IF</th>\n",
       "      <th>VW</th>\n",
       "      <th>FP</th>\n",
       "      <th>Depth</th>\n",
       "      <th>Width</th>\n",
       "    </tr>\n",
       "  </thead>\n",
       "  <tbody>\n",
       "    <tr>\n",
       "      <th>count</th>\n",
       "      <td>72.000000</td>\n",
       "      <td>72.000000</td>\n",
       "      <td>72.000000</td>\n",
       "      <td>72.000000</td>\n",
       "      <td>72.000000</td>\n",
       "      <td>72.000000</td>\n",
       "    </tr>\n",
       "    <tr>\n",
       "      <th>mean</th>\n",
       "      <td>45.666667</td>\n",
       "      <td>141.333333</td>\n",
       "      <td>8.638889</td>\n",
       "      <td>78.333333</td>\n",
       "      <td>1.195556</td>\n",
       "      <td>1.970417</td>\n",
       "    </tr>\n",
       "    <tr>\n",
       "      <th>std</th>\n",
       "      <td>1.678363</td>\n",
       "      <td>5.145763</td>\n",
       "      <td>2.061078</td>\n",
       "      <td>21.493530</td>\n",
       "      <td>0.225081</td>\n",
       "      <td>0.279040</td>\n",
       "    </tr>\n",
       "    <tr>\n",
       "      <th>min</th>\n",
       "      <td>43.000000</td>\n",
       "      <td>131.000000</td>\n",
       "      <td>4.500000</td>\n",
       "      <td>50.000000</td>\n",
       "      <td>0.800000</td>\n",
       "      <td>1.680000</td>\n",
       "    </tr>\n",
       "    <tr>\n",
       "      <th>25%</th>\n",
       "      <td>44.000000</td>\n",
       "      <td>139.000000</td>\n",
       "      <td>8.000000</td>\n",
       "      <td>60.000000</td>\n",
       "      <td>1.080000</td>\n",
       "      <td>1.760000</td>\n",
       "    </tr>\n",
       "    <tr>\n",
       "      <th>50%</th>\n",
       "      <td>45.500000</td>\n",
       "      <td>141.000000</td>\n",
       "      <td>9.000000</td>\n",
       "      <td>80.000000</td>\n",
       "      <td>1.200000</td>\n",
       "      <td>1.840000</td>\n",
       "    </tr>\n",
       "    <tr>\n",
       "      <th>75%</th>\n",
       "      <td>47.000000</td>\n",
       "      <td>146.000000</td>\n",
       "      <td>10.000000</td>\n",
       "      <td>80.000000</td>\n",
       "      <td>1.290000</td>\n",
       "      <td>2.050000</td>\n",
       "    </tr>\n",
       "    <tr>\n",
       "      <th>max</th>\n",
       "      <td>49.000000</td>\n",
       "      <td>150.000000</td>\n",
       "      <td>12.000000</td>\n",
       "      <td>125.000000</td>\n",
       "      <td>1.760000</td>\n",
       "      <td>2.600000</td>\n",
       "    </tr>\n",
       "  </tbody>\n",
       "</table>\n",
       "</div>"
      ],
      "text/plain": [
       "              IW          IF         VW          FP      Depth      Width\n",
       "count  72.000000   72.000000  72.000000   72.000000  72.000000  72.000000\n",
       "mean   45.666667  141.333333   8.638889   78.333333   1.195556   1.970417\n",
       "std     1.678363    5.145763   2.061078   21.493530   0.225081   0.279040\n",
       "min    43.000000  131.000000   4.500000   50.000000   0.800000   1.680000\n",
       "25%    44.000000  139.000000   8.000000   60.000000   1.080000   1.760000\n",
       "50%    45.500000  141.000000   9.000000   80.000000   1.200000   1.840000\n",
       "75%    47.000000  146.000000  10.000000   80.000000   1.290000   2.050000\n",
       "max    49.000000  150.000000  12.000000  125.000000   1.760000   2.600000"
      ]
     },
     "execution_count": 89,
     "metadata": {},
     "output_type": "execute_result"
    }
   ],
   "source": [
    "df.describe()"
   ]
  },
  {
   "cell_type": "markdown",
   "metadata": {},
   "source": [
    "Разделим данные на целевой столбец и признаки"
   ]
  },
  {
   "cell_type": "code",
   "execution_count": 90,
   "metadata": {},
   "outputs": [],
   "source": [
    "X = df.drop(labels=['Depth','Width'], axis=1)\n",
    "X=X.astype('float32')\n",
    "y = df[['Depth','Width']]"
   ]
  },
  {
   "cell_type": "code",
   "execution_count": 91,
   "metadata": {},
   "outputs": [
    {
     "name": "stdout",
     "output_type": "stream",
     "text": [
      "     IW     IF   VW    FP\n",
      "0  47.0  139.0  4.5  80.0\n",
      "1  47.0  139.0  4.5  80.0\n",
      "2  47.0  139.0  4.5  80.0\n",
      "3  47.0  139.0  4.5  80.0\n",
      "4  45.0  140.0  4.5  80.0 \n",
      "\n",
      "   Depth  Width\n",
      "0   1.60   2.54\n",
      "1   1.62   2.50\n",
      "2   1.68   2.60\n",
      "3   1.58   2.52\n",
      "4   1.76   2.48\n"
     ]
    }
   ],
   "source": [
    "print(X.head(), \"\\n\")\n",
    "print(y.head())"
   ]
  },
  {
   "cell_type": "markdown",
   "metadata": {},
   "source": [
    "Проверим размерности"
   ]
  },
  {
   "cell_type": "code",
   "execution_count": 92,
   "metadata": {},
   "outputs": [
    {
     "name": "stdout",
     "output_type": "stream",
     "text": [
      "(72, 4)\n",
      "(72, 2)\n"
     ]
    }
   ],
   "source": [
    "print(X.shape)\n",
    "print(y.shape)"
   ]
  },
  {
   "cell_type": "markdown",
   "metadata": {},
   "source": [
    "Разделим выборку на тренировочную и тестовую"
   ]
  },
  {
   "cell_type": "code",
   "execution_count": 93,
   "metadata": {},
   "outputs": [],
   "source": [
    "X_train, X_test, y_train, y_test = train_test_split(X, y,test_size=0.25, random_state=346705925)"
   ]
  },
  {
   "cell_type": "markdown",
   "metadata": {},
   "source": [
    "Нормализуем данные"
   ]
  },
  {
   "cell_type": "code",
   "execution_count": 94,
   "metadata": {},
   "outputs": [
    {
     "name": "stdout",
     "output_type": "stream",
     "text": [
      "              IW         IF         VW         FP\n",
      "count  54.000000  54.000000  54.000000  54.000000\n",
      "mean    0.270134   0.840421   0.050577   0.452532\n",
      "std     0.007335   0.059574   0.012768   0.099315\n",
      "min     0.255877   0.698332   0.026871   0.304686\n",
      "25%     0.263579   0.831587   0.043772   0.365602\n",
      "50%     0.268304   0.835985   0.054840   0.474283\n",
      "75%     0.277752   0.889632   0.059309   0.478314\n",
      "max     0.281129   0.914057   0.070915   0.666347\n",
      "              IW         IF         VW         FP\n",
      "count  18.000000  18.000000  18.000000  18.000000\n",
      "mean    0.268487   0.826189   0.052371   0.475051\n",
      "std     0.008371   0.070284   0.010506   0.113072\n",
      "min     0.255877   0.698332   0.026917   0.304686\n",
      "25%     0.262132   0.831423   0.053308   0.365750\n",
      "50%     0.268304   0.835256   0.054840   0.474690\n",
      "75%     0.273436   0.889266   0.055421   0.478517\n",
      "max     0.281129   0.914057   0.070915   0.666347\n"
     ]
    }
   ],
   "source": [
    "columns = X.columns\n",
    "norm = Normalizer()\n",
    "X_train = norm.fit_transform(X_train)\n",
    "print(pd.DataFrame(X_train, columns=columns).describe())\n",
    "X_test = norm.fit_transform(X_test)\n",
    "print(pd.DataFrame(X_test, columns=columns).describe())"
   ]
  },
  {
   "cell_type": "markdown",
   "metadata": {},
   "source": [
    "Проверим размерности"
   ]
  },
  {
   "cell_type": "code",
   "execution_count": 95,
   "metadata": {},
   "outputs": [
    {
     "name": "stdout",
     "output_type": "stream",
     "text": [
      "(54, 4)\n",
      "(18, 4)\n",
      "(54, 2)\n",
      "(18, 2)\n"
     ]
    }
   ],
   "source": [
    "print(X_train.shape)\n",
    "print(X_test.shape)\n",
    "print(y_train.shape)\n",
    "print(y_test.shape)"
   ]
  },
  {
   "cell_type": "markdown",
   "metadata": {},
   "source": [
    "## Обучение моделей"
   ]
  },
  {
   "cell_type": "markdown",
   "metadata": {},
   "source": [
    "Функция для вычисления метрик моделей"
   ]
  },
  {
   "cell_type": "code",
   "execution_count": 96,
   "metadata": {},
   "outputs": [],
   "source": [
    "def metric_model(model):\n",
    "    #стремится к 0\n",
    "    print(\"mean_absolute_error:\", mean_absolute_error(y_test, model.predict(X_test)))\n",
    "    #стремится к 0\n",
    "    print(\"median_absolute_error:\", median_absolute_error(y_test, model.predict(X_test)))\n",
    "    #стремится к 1\n",
    "    print(\"r2_score:\", r2_score(y_test, model.predict(X_test)))"
   ]
  },
  {
   "cell_type": "markdown",
   "metadata": {},
   "source": [
    "## Метод ближайших соседей с гиперпараметром K=5"
   ]
  },
  {
   "cell_type": "code",
   "execution_count": 97,
   "metadata": {},
   "outputs": [
    {
     "data": {
      "text/html": [
       "<style>#sk-container-id-8 {color: black;background-color: white;}#sk-container-id-8 pre{padding: 0;}#sk-container-id-8 div.sk-toggleable {background-color: white;}#sk-container-id-8 label.sk-toggleable__label {cursor: pointer;display: block;width: 100%;margin-bottom: 0;padding: 0.3em;box-sizing: border-box;text-align: center;}#sk-container-id-8 label.sk-toggleable__label-arrow:before {content: \"▸\";float: left;margin-right: 0.25em;color: #696969;}#sk-container-id-8 label.sk-toggleable__label-arrow:hover:before {color: black;}#sk-container-id-8 div.sk-estimator:hover label.sk-toggleable__label-arrow:before {color: black;}#sk-container-id-8 div.sk-toggleable__content {max-height: 0;max-width: 0;overflow: hidden;text-align: left;background-color: #f0f8ff;}#sk-container-id-8 div.sk-toggleable__content pre {margin: 0.2em;color: black;border-radius: 0.25em;background-color: #f0f8ff;}#sk-container-id-8 input.sk-toggleable__control:checked~div.sk-toggleable__content {max-height: 200px;max-width: 100%;overflow: auto;}#sk-container-id-8 input.sk-toggleable__control:checked~label.sk-toggleable__label-arrow:before {content: \"▾\";}#sk-container-id-8 div.sk-estimator input.sk-toggleable__control:checked~label.sk-toggleable__label {background-color: #d4ebff;}#sk-container-id-8 div.sk-label input.sk-toggleable__control:checked~label.sk-toggleable__label {background-color: #d4ebff;}#sk-container-id-8 input.sk-hidden--visually {border: 0;clip: rect(1px 1px 1px 1px);clip: rect(1px, 1px, 1px, 1px);height: 1px;margin: -1px;overflow: hidden;padding: 0;position: absolute;width: 1px;}#sk-container-id-8 div.sk-estimator {font-family: monospace;background-color: #f0f8ff;border: 1px dotted black;border-radius: 0.25em;box-sizing: border-box;margin-bottom: 0.5em;}#sk-container-id-8 div.sk-estimator:hover {background-color: #d4ebff;}#sk-container-id-8 div.sk-parallel-item::after {content: \"\";width: 100%;border-bottom: 1px solid gray;flex-grow: 1;}#sk-container-id-8 div.sk-label:hover label.sk-toggleable__label {background-color: #d4ebff;}#sk-container-id-8 div.sk-serial::before {content: \"\";position: absolute;border-left: 1px solid gray;box-sizing: border-box;top: 0;bottom: 0;left: 50%;z-index: 0;}#sk-container-id-8 div.sk-serial {display: flex;flex-direction: column;align-items: center;background-color: white;padding-right: 0.2em;padding-left: 0.2em;position: relative;}#sk-container-id-8 div.sk-item {position: relative;z-index: 1;}#sk-container-id-8 div.sk-parallel {display: flex;align-items: stretch;justify-content: center;background-color: white;position: relative;}#sk-container-id-8 div.sk-item::before, #sk-container-id-8 div.sk-parallel-item::before {content: \"\";position: absolute;border-left: 1px solid gray;box-sizing: border-box;top: 0;bottom: 0;left: 50%;z-index: -1;}#sk-container-id-8 div.sk-parallel-item {display: flex;flex-direction: column;z-index: 1;position: relative;background-color: white;}#sk-container-id-8 div.sk-parallel-item:first-child::after {align-self: flex-end;width: 50%;}#sk-container-id-8 div.sk-parallel-item:last-child::after {align-self: flex-start;width: 50%;}#sk-container-id-8 div.sk-parallel-item:only-child::after {width: 0;}#sk-container-id-8 div.sk-dashed-wrapped {border: 1px dashed gray;margin: 0 0.4em 0.5em 0.4em;box-sizing: border-box;padding-bottom: 0.4em;background-color: white;}#sk-container-id-8 div.sk-label label {font-family: monospace;font-weight: bold;display: inline-block;line-height: 1.2em;}#sk-container-id-8 div.sk-label-container {text-align: center;}#sk-container-id-8 div.sk-container {/* jupyter's `normalize.less` sets `[hidden] { display: none; }` but bootstrap.min.css set `[hidden] { display: none !important; }` so we also need the `!important` here to be able to override the default hidden behavior on the sphinx rendered scikit-learn.org. See: https://github.com/scikit-learn/scikit-learn/issues/21755 */display: inline-block !important;position: relative;}#sk-container-id-8 div.sk-text-repr-fallback {display: none;}</style><div id=\"sk-container-id-8\" class=\"sk-top-container\"><div class=\"sk-text-repr-fallback\"><pre>KNeighborsRegressor()</pre><b>In a Jupyter environment, please rerun this cell to show the HTML representation or trust the notebook. <br />On GitHub, the HTML representation is unable to render, please try loading this page with nbviewer.org.</b></div><div class=\"sk-container\" hidden><div class=\"sk-item\"><div class=\"sk-estimator sk-toggleable\"><input class=\"sk-toggleable__control sk-hidden--visually\" id=\"sk-estimator-id-8\" type=\"checkbox\" checked><label for=\"sk-estimator-id-8\" class=\"sk-toggleable__label sk-toggleable__label-arrow\">KNeighborsRegressor</label><div class=\"sk-toggleable__content\"><pre>KNeighborsRegressor()</pre></div></div></div></div></div>"
      ],
      "text/plain": [
       "KNeighborsRegressor()"
      ]
     },
     "execution_count": 97,
     "metadata": {},
     "output_type": "execute_result"
    }
   ],
   "source": [
    "from sklearn.neighbors import KNeighborsRegressor\n",
    "KNNreg_5 = KNeighborsRegressor(n_neighbors=5)\n",
    "KNNreg_5.fit(X_train, y_train)"
   ]
  },
  {
   "cell_type": "markdown",
   "metadata": {},
   "source": [
    "Вычислим метрики"
   ]
  },
  {
   "cell_type": "code",
   "execution_count": 98,
   "metadata": {},
   "outputs": [
    {
     "name": "stdout",
     "output_type": "stream",
     "text": [
      "mean_absolute_error: 0.06738888888888887\n",
      "median_absolute_error: 0.052000000000000046\n",
      "r2_score: 0.8406622272233957\n"
     ]
    }
   ],
   "source": [
    "metric_model(KNNreg_5)"
   ]
  },
  {
   "cell_type": "markdown",
   "metadata": {},
   "source": [
    "Подберем гиперпараметр K"
   ]
  },
  {
   "cell_type": "code",
   "execution_count": 99,
   "metadata": {},
   "outputs": [
    {
     "data": {
      "text/plain": [
       "array([ 1,  3,  5,  7,  9, 11, 13, 15, 17, 19, 21, 23, 25, 27, 29, 31, 33,\n",
       "       35, 37, 39, 41, 43, 45, 47, 49])"
      ]
     },
     "execution_count": 99,
     "metadata": {},
     "output_type": "execute_result"
    }
   ],
   "source": [
    "n_range = np.array(range(1, 50, 2))\n",
    "tuned_parameters = [{'n_neighbors': n_range}]\n",
    "n_range"
   ]
  },
  {
   "cell_type": "code",
   "execution_count": 100,
   "metadata": {},
   "outputs": [
    {
     "data": {
      "text/plain": [
       "{'n_neighbors': 3}"
      ]
     },
     "execution_count": 100,
     "metadata": {},
     "output_type": "execute_result"
    }
   ],
   "source": [
    "from sklearn.model_selection import GridSearchCV\n",
    "from sklearn.model_selection import ShuffleSplit\n",
    "gs = GridSearchCV(KNeighborsRegressor(), tuned_parameters,\n",
    "                  cv=ShuffleSplit(n_splits=10), scoring=\"r2\",\n",
    "                  return_train_score=True, n_jobs=-1)\n",
    "gs.fit(X, y)\n",
    "gs.best_params_"
   ]
  },
  {
   "cell_type": "markdown",
   "metadata": {},
   "source": [
    "Запустим модель с наилучшим значением гиперпараметра и вычислим метрики"
   ]
  },
  {
   "cell_type": "code",
   "execution_count": 110,
   "metadata": {},
   "outputs": [
    {
     "name": "stdout",
     "output_type": "stream",
     "text": [
      "Метрики для  {'n_neighbors': 3}\n",
      "mean_absolute_error: 0.054722222222222214\n",
      "median_absolute_error: 0.04666666666666666\n",
      "r2_score: 0.8729645370466351\n",
      "Метрики для n_neighbors=5\n",
      "mean_absolute_error: 0.06738888888888887\n",
      "median_absolute_error: 0.052000000000000046\n",
      "r2_score: 0.8406622272233957\n"
     ]
    }
   ],
   "source": [
    "KNNreg = KNeighborsRegressor(**gs.best_params_)\n",
    "KNNreg.fit(X_train, y_train)\n",
    "print('Метрики для ', gs.best_params_)\n",
    "metric_model(KNNreg)\n",
    "print('Метрики для n_neighbors=5')\n",
    "metric_model(KNNreg_5)"
   ]
  },
  {
   "cell_type": "markdown",
   "metadata": {},
   "source": [
    "Значения метрик улучшились"
   ]
  },
  {
   "cell_type": "markdown",
   "metadata": {},
   "source": [
    "## Дерево решений с неограниченной глубиной "
   ]
  },
  {
   "cell_type": "code",
   "execution_count": 111,
   "metadata": {},
   "outputs": [
    {
     "data": {
      "text/html": [
       "<style>#sk-container-id-9 {color: black;background-color: white;}#sk-container-id-9 pre{padding: 0;}#sk-container-id-9 div.sk-toggleable {background-color: white;}#sk-container-id-9 label.sk-toggleable__label {cursor: pointer;display: block;width: 100%;margin-bottom: 0;padding: 0.3em;box-sizing: border-box;text-align: center;}#sk-container-id-9 label.sk-toggleable__label-arrow:before {content: \"▸\";float: left;margin-right: 0.25em;color: #696969;}#sk-container-id-9 label.sk-toggleable__label-arrow:hover:before {color: black;}#sk-container-id-9 div.sk-estimator:hover label.sk-toggleable__label-arrow:before {color: black;}#sk-container-id-9 div.sk-toggleable__content {max-height: 0;max-width: 0;overflow: hidden;text-align: left;background-color: #f0f8ff;}#sk-container-id-9 div.sk-toggleable__content pre {margin: 0.2em;color: black;border-radius: 0.25em;background-color: #f0f8ff;}#sk-container-id-9 input.sk-toggleable__control:checked~div.sk-toggleable__content {max-height: 200px;max-width: 100%;overflow: auto;}#sk-container-id-9 input.sk-toggleable__control:checked~label.sk-toggleable__label-arrow:before {content: \"▾\";}#sk-container-id-9 div.sk-estimator input.sk-toggleable__control:checked~label.sk-toggleable__label {background-color: #d4ebff;}#sk-container-id-9 div.sk-label input.sk-toggleable__control:checked~label.sk-toggleable__label {background-color: #d4ebff;}#sk-container-id-9 input.sk-hidden--visually {border: 0;clip: rect(1px 1px 1px 1px);clip: rect(1px, 1px, 1px, 1px);height: 1px;margin: -1px;overflow: hidden;padding: 0;position: absolute;width: 1px;}#sk-container-id-9 div.sk-estimator {font-family: monospace;background-color: #f0f8ff;border: 1px dotted black;border-radius: 0.25em;box-sizing: border-box;margin-bottom: 0.5em;}#sk-container-id-9 div.sk-estimator:hover {background-color: #d4ebff;}#sk-container-id-9 div.sk-parallel-item::after {content: \"\";width: 100%;border-bottom: 1px solid gray;flex-grow: 1;}#sk-container-id-9 div.sk-label:hover label.sk-toggleable__label {background-color: #d4ebff;}#sk-container-id-9 div.sk-serial::before {content: \"\";position: absolute;border-left: 1px solid gray;box-sizing: border-box;top: 0;bottom: 0;left: 50%;z-index: 0;}#sk-container-id-9 div.sk-serial {display: flex;flex-direction: column;align-items: center;background-color: white;padding-right: 0.2em;padding-left: 0.2em;position: relative;}#sk-container-id-9 div.sk-item {position: relative;z-index: 1;}#sk-container-id-9 div.sk-parallel {display: flex;align-items: stretch;justify-content: center;background-color: white;position: relative;}#sk-container-id-9 div.sk-item::before, #sk-container-id-9 div.sk-parallel-item::before {content: \"\";position: absolute;border-left: 1px solid gray;box-sizing: border-box;top: 0;bottom: 0;left: 50%;z-index: -1;}#sk-container-id-9 div.sk-parallel-item {display: flex;flex-direction: column;z-index: 1;position: relative;background-color: white;}#sk-container-id-9 div.sk-parallel-item:first-child::after {align-self: flex-end;width: 50%;}#sk-container-id-9 div.sk-parallel-item:last-child::after {align-self: flex-start;width: 50%;}#sk-container-id-9 div.sk-parallel-item:only-child::after {width: 0;}#sk-container-id-9 div.sk-dashed-wrapped {border: 1px dashed gray;margin: 0 0.4em 0.5em 0.4em;box-sizing: border-box;padding-bottom: 0.4em;background-color: white;}#sk-container-id-9 div.sk-label label {font-family: monospace;font-weight: bold;display: inline-block;line-height: 1.2em;}#sk-container-id-9 div.sk-label-container {text-align: center;}#sk-container-id-9 div.sk-container {/* jupyter's `normalize.less` sets `[hidden] { display: none; }` but bootstrap.min.css set `[hidden] { display: none !important; }` so we also need the `!important` here to be able to override the default hidden behavior on the sphinx rendered scikit-learn.org. See: https://github.com/scikit-learn/scikit-learn/issues/21755 */display: inline-block !important;position: relative;}#sk-container-id-9 div.sk-text-repr-fallback {display: none;}</style><div id=\"sk-container-id-9\" class=\"sk-top-container\"><div class=\"sk-text-repr-fallback\"><pre>DecisionTreeRegressor()</pre><b>In a Jupyter environment, please rerun this cell to show the HTML representation or trust the notebook. <br />On GitHub, the HTML representation is unable to render, please try loading this page with nbviewer.org.</b></div><div class=\"sk-container\" hidden><div class=\"sk-item\"><div class=\"sk-estimator sk-toggleable\"><input class=\"sk-toggleable__control sk-hidden--visually\" id=\"sk-estimator-id-9\" type=\"checkbox\" checked><label for=\"sk-estimator-id-9\" class=\"sk-toggleable__label sk-toggleable__label-arrow\">DecisionTreeRegressor</label><div class=\"sk-toggleable__content\"><pre>DecisionTreeRegressor()</pre></div></div></div></div></div>"
      ],
      "text/plain": [
       "DecisionTreeRegressor()"
      ]
     },
     "execution_count": 111,
     "metadata": {},
     "output_type": "execute_result"
    }
   ],
   "source": [
    "dt_none = DecisionTreeRegressor(max_depth=None)\n",
    "dt_none.fit(X_train, y_train)"
   ]
  },
  {
   "cell_type": "markdown",
   "metadata": {},
   "source": [
    "Вычислим метрики"
   ]
  },
  {
   "cell_type": "code",
   "execution_count": 112,
   "metadata": {},
   "outputs": [
    {
     "name": "stdout",
     "output_type": "stream",
     "text": [
      "mean_absolute_error: 0.04898148148148153\n",
      "median_absolute_error: 0.04000000000000012\n",
      "r2_score: 0.9032864848010264\n"
     ]
    }
   ],
   "source": [
    "metric_model(dt_none)"
   ]
  },
  {
   "cell_type": "markdown",
   "metadata": {},
   "source": [
    "Подберем параметр"
   ]
  },
  {
   "cell_type": "code",
   "execution_count": 113,
   "metadata": {},
   "outputs": [
    {
     "data": {
      "text/plain": [
       "[{'max_depth': array([ 1,  3,  5,  7,  9, 11, 13, 15, 17, 19, 21, 23, 25, 27, 29, 31, 33,\n",
       "         35, 37, 39, 41, 43, 45, 47, 49])}]"
      ]
     },
     "execution_count": 113,
     "metadata": {},
     "output_type": "execute_result"
    }
   ],
   "source": [
    "param_range = np.arange(1, 51, 2)\n",
    "tuned_parameters = [{'max_depth': param_range}]\n",
    "tuned_parameters"
   ]
  },
  {
   "cell_type": "code",
   "execution_count": 116,
   "metadata": {},
   "outputs": [
    {
     "data": {
      "text/html": [
       "<style>#sk-container-id-12 {color: black;background-color: white;}#sk-container-id-12 pre{padding: 0;}#sk-container-id-12 div.sk-toggleable {background-color: white;}#sk-container-id-12 label.sk-toggleable__label {cursor: pointer;display: block;width: 100%;margin-bottom: 0;padding: 0.3em;box-sizing: border-box;text-align: center;}#sk-container-id-12 label.sk-toggleable__label-arrow:before {content: \"▸\";float: left;margin-right: 0.25em;color: #696969;}#sk-container-id-12 label.sk-toggleable__label-arrow:hover:before {color: black;}#sk-container-id-12 div.sk-estimator:hover label.sk-toggleable__label-arrow:before {color: black;}#sk-container-id-12 div.sk-toggleable__content {max-height: 0;max-width: 0;overflow: hidden;text-align: left;background-color: #f0f8ff;}#sk-container-id-12 div.sk-toggleable__content pre {margin: 0.2em;color: black;border-radius: 0.25em;background-color: #f0f8ff;}#sk-container-id-12 input.sk-toggleable__control:checked~div.sk-toggleable__content {max-height: 200px;max-width: 100%;overflow: auto;}#sk-container-id-12 input.sk-toggleable__control:checked~label.sk-toggleable__label-arrow:before {content: \"▾\";}#sk-container-id-12 div.sk-estimator input.sk-toggleable__control:checked~label.sk-toggleable__label {background-color: #d4ebff;}#sk-container-id-12 div.sk-label input.sk-toggleable__control:checked~label.sk-toggleable__label {background-color: #d4ebff;}#sk-container-id-12 input.sk-hidden--visually {border: 0;clip: rect(1px 1px 1px 1px);clip: rect(1px, 1px, 1px, 1px);height: 1px;margin: -1px;overflow: hidden;padding: 0;position: absolute;width: 1px;}#sk-container-id-12 div.sk-estimator {font-family: monospace;background-color: #f0f8ff;border: 1px dotted black;border-radius: 0.25em;box-sizing: border-box;margin-bottom: 0.5em;}#sk-container-id-12 div.sk-estimator:hover {background-color: #d4ebff;}#sk-container-id-12 div.sk-parallel-item::after {content: \"\";width: 100%;border-bottom: 1px solid gray;flex-grow: 1;}#sk-container-id-12 div.sk-label:hover label.sk-toggleable__label {background-color: #d4ebff;}#sk-container-id-12 div.sk-serial::before {content: \"\";position: absolute;border-left: 1px solid gray;box-sizing: border-box;top: 0;bottom: 0;left: 50%;z-index: 0;}#sk-container-id-12 div.sk-serial {display: flex;flex-direction: column;align-items: center;background-color: white;padding-right: 0.2em;padding-left: 0.2em;position: relative;}#sk-container-id-12 div.sk-item {position: relative;z-index: 1;}#sk-container-id-12 div.sk-parallel {display: flex;align-items: stretch;justify-content: center;background-color: white;position: relative;}#sk-container-id-12 div.sk-item::before, #sk-container-id-12 div.sk-parallel-item::before {content: \"\";position: absolute;border-left: 1px solid gray;box-sizing: border-box;top: 0;bottom: 0;left: 50%;z-index: -1;}#sk-container-id-12 div.sk-parallel-item {display: flex;flex-direction: column;z-index: 1;position: relative;background-color: white;}#sk-container-id-12 div.sk-parallel-item:first-child::after {align-self: flex-end;width: 50%;}#sk-container-id-12 div.sk-parallel-item:last-child::after {align-self: flex-start;width: 50%;}#sk-container-id-12 div.sk-parallel-item:only-child::after {width: 0;}#sk-container-id-12 div.sk-dashed-wrapped {border: 1px dashed gray;margin: 0 0.4em 0.5em 0.4em;box-sizing: border-box;padding-bottom: 0.4em;background-color: white;}#sk-container-id-12 div.sk-label label {font-family: monospace;font-weight: bold;display: inline-block;line-height: 1.2em;}#sk-container-id-12 div.sk-label-container {text-align: center;}#sk-container-id-12 div.sk-container {/* jupyter's `normalize.less` sets `[hidden] { display: none; }` but bootstrap.min.css set `[hidden] { display: none !important; }` so we also need the `!important` here to be able to override the default hidden behavior on the sphinx rendered scikit-learn.org. See: https://github.com/scikit-learn/scikit-learn/issues/21755 */display: inline-block !important;position: relative;}#sk-container-id-12 div.sk-text-repr-fallback {display: none;}</style><div id=\"sk-container-id-12\" class=\"sk-top-container\"><div class=\"sk-text-repr-fallback\"><pre>DecisionTreeRegressor(max_depth=9)</pre><b>In a Jupyter environment, please rerun this cell to show the HTML representation or trust the notebook. <br />On GitHub, the HTML representation is unable to render, please try loading this page with nbviewer.org.</b></div><div class=\"sk-container\" hidden><div class=\"sk-item\"><div class=\"sk-estimator sk-toggleable\"><input class=\"sk-toggleable__control sk-hidden--visually\" id=\"sk-estimator-id-12\" type=\"checkbox\" checked><label for=\"sk-estimator-id-12\" class=\"sk-toggleable__label sk-toggleable__label-arrow\">DecisionTreeRegressor</label><div class=\"sk-toggleable__content\"><pre>DecisionTreeRegressor(max_depth=9)</pre></div></div></div></div></div>"
      ],
      "text/plain": [
       "DecisionTreeRegressor(max_depth=9)"
      ]
     },
     "execution_count": 116,
     "metadata": {},
     "output_type": "execute_result"
    }
   ],
   "source": [
    "gs = GridSearchCV(DecisionTreeRegressor(), tuned_parameters,\n",
    "                  cv=ShuffleSplit(n_splits=10), scoring=\"r2\",\n",
    "                  return_train_score=True, n_jobs=-1)\n",
    "gs.fit(X_train, y_train)\n",
    "gs.best_estimator_"
   ]
  },
  {
   "cell_type": "markdown",
   "metadata": {},
   "source": [
    "Запустим модель с подобранным параметром глубина дерева"
   ]
  },
  {
   "cell_type": "code",
   "execution_count": 117,
   "metadata": {},
   "outputs": [
    {
     "name": "stdout",
     "output_type": "stream",
     "text": [
      "Метрики для  DecisionTreeRegressor(max_depth=9)\n",
      "mean_absolute_error: 0.048981481481481494\n",
      "median_absolute_error: 0.04000000000000001\n",
      "r2_score: 0.9032864848010264\n",
      "Метрики для неограниченной глубины\n",
      "mean_absolute_error: 0.06738888888888887\n",
      "median_absolute_error: 0.052000000000000046\n",
      "r2_score: 0.8406622272233957\n"
     ]
    }
   ],
   "source": [
    "reg = gs.best_estimator_\n",
    "reg.fit(X_train, y_train)\n",
    "print('Метрики для ', gs.best_estimator_)\n",
    "metric_model(reg)\n",
    "\n",
    "print('Метрики для неограниченной глубины')\n",
    "metric_model(KNNreg_5)"
   ]
  },
  {
   "cell_type": "markdown",
   "metadata": {},
   "source": [
    "Значения метрик значительно улучшились"
   ]
  },
  {
   "cell_type": "markdown",
   "metadata": {},
   "source": [
    "## Нейронная сеть"
   ]
  },
  {
   "cell_type": "code",
   "execution_count": 118,
   "metadata": {},
   "outputs": [
    {
     "name": "stdout",
     "output_type": "stream",
     "text": [
      "Epoch 1/30\n",
      "54/54 [==============================] - 1s 5ms/step - loss: 1.3686 - accuracy: 1.0000 - val_loss: 1.1994 - val_accuracy: 1.0000\n",
      "Epoch 2/30\n",
      "54/54 [==============================] - 0s 2ms/step - loss: 1.2823 - accuracy: 1.0000 - val_loss: 1.1049 - val_accuracy: 1.0000\n",
      "Epoch 3/30\n",
      "54/54 [==============================] - 0s 3ms/step - loss: 1.1619 - accuracy: 1.0000 - val_loss: 0.9686 - val_accuracy: 1.0000\n",
      "Epoch 4/30\n",
      "54/54 [==============================] - 0s 3ms/step - loss: 1.0014 - accuracy: 1.0000 - val_loss: 0.8090 - val_accuracy: 1.0000\n",
      "Epoch 5/30\n",
      "54/54 [==============================] - 0s 2ms/step - loss: 0.8436 - accuracy: 1.0000 - val_loss: 0.6831 - val_accuracy: 1.0000\n",
      "Epoch 6/30\n",
      "54/54 [==============================] - 0s 3ms/step - loss: 0.7337 - accuracy: 1.0000 - val_loss: 0.6055 - val_accuracy: 1.0000\n",
      "Epoch 7/30\n",
      "54/54 [==============================] - 0s 2ms/step - loss: 0.6703 - accuracy: 1.0000 - val_loss: 0.5629 - val_accuracy: 1.0000\n",
      "Epoch 8/30\n",
      "54/54 [==============================] - 0s 2ms/step - loss: 0.6354 - accuracy: 1.0000 - val_loss: 0.5399 - val_accuracy: 1.0000\n",
      "Epoch 9/30\n",
      "54/54 [==============================] - 0s 4ms/step - loss: 0.6157 - accuracy: 1.0000 - val_loss: 0.5261 - val_accuracy: 1.0000\n",
      "Epoch 10/30\n",
      "54/54 [==============================] - 0s 2ms/step - loss: 0.6037 - accuracy: 1.0000 - val_loss: 0.5177 - val_accuracy: 1.0000\n",
      "Epoch 11/30\n",
      "54/54 [==============================] - 0s 2ms/step - loss: 0.5960 - accuracy: 1.0000 - val_loss: 0.5121 - val_accuracy: 1.0000\n",
      "Epoch 12/30\n",
      "54/54 [==============================] - 0s 2ms/step - loss: 0.5908 - accuracy: 1.0000 - val_loss: 0.5082 - val_accuracy: 1.0000\n",
      "Epoch 13/30\n",
      "54/54 [==============================] - 0s 2ms/step - loss: 0.5872 - accuracy: 1.0000 - val_loss: 0.5055 - val_accuracy: 1.0000\n",
      "Epoch 14/30\n",
      "54/54 [==============================] - 0s 2ms/step - loss: 0.5846 - accuracy: 1.0000 - val_loss: 0.5035 - val_accuracy: 1.0000\n",
      "Epoch 15/30\n",
      "54/54 [==============================] - 0s 2ms/step - loss: 0.5826 - accuracy: 1.0000 - val_loss: 0.5019 - val_accuracy: 1.0000\n",
      "Epoch 16/30\n",
      "54/54 [==============================] - 0s 2ms/step - loss: 0.5811 - accuracy: 1.0000 - val_loss: 0.5008 - val_accuracy: 1.0000\n",
      "Epoch 17/30\n",
      "54/54 [==============================] - 0s 2ms/step - loss: 0.5799 - accuracy: 1.0000 - val_loss: 0.4998 - val_accuracy: 1.0000\n",
      "Epoch 18/30\n",
      "54/54 [==============================] - 0s 2ms/step - loss: 0.5789 - accuracy: 1.0000 - val_loss: 0.4991 - val_accuracy: 1.0000\n",
      "Epoch 19/30\n",
      "54/54 [==============================] - 0s 2ms/step - loss: 0.5781 - accuracy: 1.0000 - val_loss: 0.4985 - val_accuracy: 1.0000\n",
      "Epoch 20/30\n",
      "54/54 [==============================] - 0s 2ms/step - loss: 0.5775 - accuracy: 1.0000 - val_loss: 0.4979 - val_accuracy: 1.0000\n",
      "Epoch 21/30\n",
      "54/54 [==============================] - 0s 2ms/step - loss: 0.5770 - accuracy: 1.0000 - val_loss: 0.4975 - val_accuracy: 1.0000\n",
      "Epoch 22/30\n",
      "54/54 [==============================] - 0s 2ms/step - loss: 0.5765 - accuracy: 1.0000 - val_loss: 0.4972 - val_accuracy: 1.0000\n",
      "Epoch 23/30\n",
      "54/54 [==============================] - 0s 3ms/step - loss: 0.5762 - accuracy: 1.0000 - val_loss: 0.4969 - val_accuracy: 1.0000\n",
      "Epoch 24/30\n",
      "54/54 [==============================] - 0s 2ms/step - loss: 0.5758 - accuracy: 1.0000 - val_loss: 0.4966 - val_accuracy: 1.0000\n",
      "Epoch 25/30\n",
      "54/54 [==============================] - 0s 3ms/step - loss: 0.5756 - accuracy: 1.0000 - val_loss: 0.4964 - val_accuracy: 1.0000\n",
      "Epoch 26/30\n",
      "54/54 [==============================] - 0s 2ms/step - loss: 0.5753 - accuracy: 1.0000 - val_loss: 0.4962 - val_accuracy: 1.0000\n",
      "Epoch 27/30\n",
      "54/54 [==============================] - 0s 2ms/step - loss: 0.5751 - accuracy: 1.0000 - val_loss: 0.4960 - val_accuracy: 1.0000\n",
      "Epoch 28/30\n",
      "54/54 [==============================] - 0s 2ms/step - loss: 0.5749 - accuracy: 1.0000 - val_loss: 0.4959 - val_accuracy: 1.0000\n",
      "Epoch 29/30\n",
      "54/54 [==============================] - 0s 2ms/step - loss: 0.5748 - accuracy: 1.0000 - val_loss: 0.4957 - val_accuracy: 1.0000\n",
      "Epoch 30/30\n",
      "54/54 [==============================] - 0s 3ms/step - loss: 0.5746 - accuracy: 1.0000 - val_loss: 0.4956 - val_accuracy: 1.0000\n"
     ]
    },
    {
     "data": {
      "image/png": "[encoded data removed]",
      "text/plain": [
       "<Figure size 640x480 with 1 Axes>"
      ]
     },
     "metadata": {},
     "output_type": "display_data"
    },
    {
     "name": "stdout",
     "output_type": "stream",
     "text": [
      "1/1 [==============================] - 0s 159ms/step - loss: 0.4956 - accuracy: 1.0000\n",
      "Потери (Loss): 0.496\n",
      "Точность (Accuracy): 1.000\n"
     ]
    }
   ],
   "source": [
    "model=Sequential()\n",
    "#входной слой\n",
    "model.add(Dense(8, activation='relu',input_shape=(X.shape[1],)))\n",
    "model.add(Dense(4, activation='relu'))\n",
    "#выходной слой\n",
    "model.add(Dense(2, activation = 'sigmoid'))\n",
    "#компилируем модель\n",
    "model.compile(optimizer='adam',loss='mean_squared_error',metrics=['accuracy'])\n",
    "#обучение\n",
    "history=model.fit(X_train,y_train,epochs=30,batch_size=1,verbose=1,validation_data=(X_test,y_test))\n",
    "plt.title('Loss')\n",
    "plt.plot(history.history['loss'], label='train')\n",
    "plt.plot(history.history['val_loss'], label='test')\n",
    "plt.legend()\n",
    "plt.show()\n",
    "accr = model.evaluate(X_test,y_test)\n",
    "print('Потери (Loss): {:0.3f}\\nТочность (Accuracy): {:0.3f}'.format(accr[0],accr[1]))"
   ]
  },
  {
   "cell_type": "markdown",
   "metadata": {},
   "source": [
    "Сравнение алгоритмов"
   ]
  },
  {
   "cell_type": "code",
   "execution_count": 120,
   "metadata": {},
   "outputs": [
    {
     "name": "stdout",
     "output_type": "stream",
     "text": [
      "Результаты предсказаний нейронной сети\n",
      "1/1 [==============================] - 0s 26ms/step\n",
      "mean_absolute_error: 0.5706115265687308\n",
      "1/1 [==============================] - 0s 23ms/step\n",
      "median_absolute_error: 0.5255352050065994\n",
      "1/1 [==============================] - 0s 25ms/step\n",
      "r2_score: -8.952770505957568\n",
      "\n",
      "Результаты предсказаний решающих деревьев\n",
      "mean_absolute_error: 0.048981481481481494\n",
      "median_absolute_error: 0.04000000000000001\n",
      "r2_score: 0.9032864848010264\n",
      "\n",
      "Результаты предсказаний регрессии\n",
      "mean_absolute_error: 0.054722222222222214\n",
      "median_absolute_error: 0.04666666666666666\n",
      "r2_score: 0.8729645370466351\n"
     ]
    }
   ],
   "source": [
    "print('Результаты предсказаний нейронной сети')\n",
    "metric_model(model)\n",
    "\n",
    "print('\\nРезультаты предсказаний решающих деревьев')\n",
    "metric_model(reg)\n",
    "\n",
    "print('\\nРезультаты предсказаний регрессии')\n",
    "metric_model(KNNreg)"
   ]
  },
  {
   "cell_type": "markdown",
   "metadata": {},
   "source": [
    "Результаты алгоритма решающих деревьев лучше, чем все остальные рассмотренные алгоритмы"
   ]
  },
  {
   "cell_type": "markdown",
   "metadata": {},
   "source": [
    "## Попробуем предсказать размер шва"
   ]
  },
  {
   "cell_type": "code",
   "execution_count": 121,
   "metadata": {},
   "outputs": [
    {
     "name": "stdout",
     "output_type": "stream",
     "text": [
      "       IW        IF        VW        FP\n",
      "0  0.2685  0.835334  0.047733  0.477333\n",
      "Размер сварного шва  [1.16 1.96]\n"
     ]
    }
   ],
   "source": [
    "pred = pd.DataFrame(data=[X_test[1]], columns=columns)\n",
    "print(pred)\n",
    "print('Размер сварного шва ', y_test.values[1])"
   ]
  },
  {
   "cell_type": "code",
   "execution_count": 122,
   "metadata": {},
   "outputs": [
    {
     "name": "stdout",
     "output_type": "stream",
     "text": [
      "1/1 [==============================] - 0s 24ms/step\n",
      "Результаты предсказаний нейронной сети  [[0.9979405 0.9989372]]\n",
      "Результаты предсказаний решающих деревьев  [[1.2  1.98]]\n",
      "Результаты предсказаний регрессии  [[1.14666667 1.95333333]]\n"
     ]
    },
    {
     "name": "stderr",
     "output_type": "stream",
     "text": [
      "c:\\Users\\Antonida.Butuzova\\my_proj\\lib\\site-packages\\sklearn\\base.py:443: UserWarning: X has feature names, but DecisionTreeRegressor was fitted without feature names\n",
      "  warnings.warn(\n",
      "c:\\Users\\Antonida.Butuzova\\my_proj\\lib\\site-packages\\sklearn\\base.py:443: UserWarning: X has feature names, but KNeighborsRegressor was fitted without feature names\n",
      "  warnings.warn(\n"
     ]
    }
   ],
   "source": [
    "#нейронная сеть\n",
    "print('Результаты предсказаний нейронной сети ', model.predict(pred))\n",
    "#деревья\n",
    "print('Результаты предсказаний решающих деревьев ', reg.predict(pred))\n",
    "#регрессия\n",
    "print('Результаты предсказаний регрессии ', KNNreg.predict(pred))"
   ]
  },
  {
   "cell_type": "markdown",
   "metadata": {},
   "source": [
    "Для прогнозирования размера сварного шва будем использовать метод решающих деревьев."
   ]
  },
  {
   "cell_type": "markdown",
   "metadata": {},
   "source": [
    "Сохраним обученную модель"
   ]
  },
  {
   "cell_type": "code",
   "execution_count": 123,
   "metadata": {},
   "outputs": [],
   "source": [
    "import pickle\n",
    "\n",
    "with open('reg_pkl.pkl', 'wb') as f:\n",
    "    pickle.dump(reg, f)"
   ]
  }
 ],
 "metadata": {
  "kernelspec": {
   "display_name": "Python 3.10.7 ('my_proj': venv)",
   "language": "python",
   "name": "python3"
  },
  "language_info": {
   "codemirror_mode": {
    "name": "ipython",
    "version": 3
   },
   "file_extension": ".py",
   "mimetype": "text/x-python",
   "name": "python",
   "nbconvert_exporter": "python",
   "pygments_lexer": "ipython3",
   "version": "3.10.8"
  },
  "orig_nbformat": 4,
  "vscode": {
   "interpreter": {
    "hash": "dffd128e80c7bb01bdf7b84cc82fe1475a928cbebc4f10631b6196ee83da3924"
   }
  }
 },
 "nbformat": 4,
 "nbformat_minor": 2
}
